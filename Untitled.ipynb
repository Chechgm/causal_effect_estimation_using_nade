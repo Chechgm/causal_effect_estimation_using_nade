{
 "cells": [
  {
   "cell_type": "code",
   "execution_count": 1,
   "metadata": {},
   "outputs": [],
   "source": [
    "import torch\n",
    "from torch import nn\n",
    "import torch.nn.functional as F\n",
    "from torch.utils.data import DataLoader\n",
    "import torch.optim as optim\n",
    "\n",
    "# Internal packages\n",
    "from data_loader import KidneyStoneDataset, ToTensor\n",
    "from model import Kidney_net, neg_loglik\n",
    "from train import train"
   ]
  },
  {
   "cell_type": "code",
   "execution_count": 2,
   "metadata": {},
   "outputs": [],
   "source": [
    "# Hyperparameters\n",
    "BATCH_SIZE = 128\n",
    "EPOCHS     = 150\n",
    "LEARN_R    = 1e-2\n",
    "N_HU       = 3\n",
    "\n",
    "# Initialize the dataset\n",
    "data = KidneyStoneDataset('./data/kidney_data.npy', transform=ToTensor())\n",
    "train_loader = DataLoader(data, batch_size=BATCH_SIZE)\n",
    "\n",
    "# Initialize the model\n",
    "model = Kidney_net(N_HU)\n",
    "\n",
    "# Optimizers\n",
    "#optimizer = optim.SGD(model.parameters(), lr=LEARN_R, weight_decay=0.1)\n",
    "optimizer = optim.RMSprop(model.parameters(), lr=LEARN_R)"
   ]
  },
  {
   "cell_type": "code",
   "execution_count": 3,
   "metadata": {},
   "outputs": [],
   "source": [
    "train(model, optimizer, neg_loglik, train_loader, EPOCHS)"
   ]
  },
  {
   "cell_type": "code",
   "execution_count": 4,
   "metadata": {},
   "outputs": [
    {
     "name": "stdout",
     "output_type": "stream",
     "text": [
      "The probability of having large stones is: 0.49\n",
      "The probability of receiving treatment A given large stones is: 0.77\n",
      "The probability of recovering given large stones and treatment A is: 0.73\n"
     ]
    }
   ],
   "source": [
    "print(\"The probability of having large stones is: %.2f\\nThe probability of receiving treatment A given large stones is: %.2f\\nThe probability of recovering given large stones and treatment A is: %.2f\"\n",
    "      % (343/(343+357), 263/343, 192/263))"
   ]
  },
  {
   "cell_type": "code",
   "execution_count": 31,
   "metadata": {},
   "outputs": [],
   "source": [
    "# We want to query an intervention on the treatment. In order to do that, we estimate p(R=1|L=1, T=do(A))*P(L=1)\n",
    "l_1_t_1_r_1 = torch.tensor([1., 1., 1.])\n",
    "l_0_t_1_r_1 = torch.tensor([0., 1., 1.])\n",
    "\n",
    "# We want to query an intervention on the treatment. In order to do that, we estimate p(R=1|L=1, T=do(B))*P(L=1)\n",
    "l_1_t_0_r_1 = torch.tensor([1., 0., 1.])\n",
    "l_0_t_0_r_1 = torch.tensor([0., 0., 1.])"
   ]
  },
  {
   "cell_type": "code",
   "execution_count": 32,
   "metadata": {},
   "outputs": [],
   "source": [
    "# Probabilities with Treatment A\n",
    "p_ks, p_t1_l1, p_r1_t1_l1 = model(l_1_t_1_r_1.unsqueeze(0)) # Probabilities with KS = L\n",
    "_, p_t1_l0, p_r1_t1_l0 = model(l_0_t_1_r_1.unsqueeze(0))    # Probabilities with KS = S\n",
    "\n",
    "# Probabilities with Treatment B\n",
    "_, p_t0_l1, p_r1_t0_l1 = model(l_1_t_0_r_1.unsqueeze(0)) # Probabilities with KS = L\n",
    "_, p_t0_l0, p_r1_t0_l0 = model(l_0_t_0_r_1.unsqueeze(0))    # Probabilities with KS = S"
   ]
  },
  {
   "cell_type": "code",
   "execution_count": 34,
   "metadata": {},
   "outputs": [
    {
     "name": "stdout",
     "output_type": "stream",
     "text": [
      "0.02099543809890747\n"
     ]
    }
   ],
   "source": [
    "int_t1 = p_r1_t1_l1*p_ks + p_r1_t1_l0*(1-p_ks)\n",
    "int_t0 = p_r1_t0_l1*p_ks + p_r1_t0_l0*(1-p_ks)\n",
    "\n",
    "c_effect = int_t1 - int_t0\n",
    "print(c_effect.item())"
   ]
  },
  {
   "cell_type": "code",
   "execution_count": 51,
   "metadata": {},
   "outputs": [
    {
     "name": "stdout",
     "output_type": "stream",
     "text": [
      "The analytical solution for P(R=1 | do(T=A))is: 0.8325 and the estimated value is 0.8018 \n",
      "The analytical solution for P(R=1 | do(T=B))is: 0.7789 and the estimated value is 0.7808 \n",
      "The analytical causal effect P(R=1 | do(T=A)) - P(R=1 | do(T=B)) is: 0.0537 and the estimated value is 0.0210 \n"
     ]
    }
   ],
   "source": [
    "an_t1 = (192/263)*343/(343+357) + (81/87)*(357/(343+357))\n",
    "an_t0 = (55/80)*343/(343+357) + (234/270)*(357/(343+357))\n",
    "print(\"The analytical solution for P(R=1 | do(T=A))is: %.4f and the estimated value is %.4f \" % (an_t1, int_t1.item()))\n",
    "print(\"The analytical solution for P(R=1 | do(T=B))is: %.4f and the estimated value is %.4f \" % (an_t2, int_t0.item()))\n",
    "print(\"The analytical causal effect P(R=1 | do(T=A)) - P(R=1 | do(T=B)) is: %.4f and the estimated value is %.4f \" % (an_t1-an_t0, int_t1.item()-int_t0.item()))"
   ]
  },
  {
   "cell_type": "code",
   "execution_count": 6,
   "metadata": {},
   "outputs": [],
   "source": [
    "import matplotlib.pyplot as plt"
   ]
  },
  {
   "cell_type": "code",
   "execution_count": 16,
   "metadata": {},
   "outputs": [
    {
     "ename": "NameError",
     "evalue": "name 'cum_loss' is not defined",
     "output_type": "error",
     "traceback": [
      "\u001b[0;31m---------------------------------------------------------------------------\u001b[0m",
      "\u001b[0;31mNameError\u001b[0m                                 Traceback (most recent call last)",
      "\u001b[0;32m<ipython-input-16-bc82aec050b7>\u001b[0m in \u001b[0;36m<module>\u001b[0;34m\u001b[0m\n\u001b[0;32m----> 1\u001b[0;31m \u001b[0mplt\u001b[0m\u001b[0;34m.\u001b[0m\u001b[0mplot\u001b[0m\u001b[0;34m(\u001b[0m\u001b[0mcum_loss\u001b[0m\u001b[0;34m)\u001b[0m\u001b[0;34m;\u001b[0m\u001b[0;34m\u001b[0m\u001b[0;34m\u001b[0m\u001b[0m\n\u001b[0m",
      "\u001b[0;31mNameError\u001b[0m: name 'cum_loss' is not defined"
     ]
    }
   ],
   "source": [
    "plt.plot(cum_loss);"
   ]
  }
 ],
 "metadata": {
  "kernelspec": {
   "display_name": "Python 3",
   "language": "python",
   "name": "python3"
  },
  "language_info": {
   "codemirror_mode": {
    "name": "ipython",
    "version": 3
   },
   "file_extension": ".py",
   "mimetype": "text/x-python",
   "name": "python",
   "nbconvert_exporter": "python",
   "pygments_lexer": "ipython3",
   "version": "3.6.8"
  }
 },
 "nbformat": 4,
 "nbformat_minor": 4
}
