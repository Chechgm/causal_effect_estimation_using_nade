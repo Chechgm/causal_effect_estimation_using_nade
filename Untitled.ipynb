{
 "cells": [
  {
   "cell_type": "code",
   "execution_count": 1,
   "metadata": {},
   "outputs": [],
   "source": [
    "# External packages\n",
    "import torch\n",
    "from torch import nn\n",
    "import torch.nn.functional as F\n",
    "from torch.utils.data import DataLoader\n",
    "import torch.optim as optim\n",
    "\n",
    "# Internal packages\n",
    "from data_loader import KidneyStoneDataset, ToTensor\n",
    "from model import Kidney_net, neg_loglik"
   ]
  },
  {
   "cell_type": "code",
   "execution_count": 2,
   "metadata": {},
   "outputs": [],
   "source": [
    "data = KidneyStoneDataset('./data/kidney_data.npy', transform=ToTensor())"
   ]
  },
  {
   "cell_type": "code",
   "execution_count": 3,
   "metadata": {},
   "outputs": [],
   "source": [
    "model = Kidney_net(3)"
   ]
  },
  {
   "cell_type": "code",
   "execution_count": 4,
   "metadata": {},
   "outputs": [],
   "source": [
    "#data.__getitem__([1,2,3,4])[:,[1,2]]"
   ]
  },
  {
   "cell_type": "code",
   "execution_count": 15,
   "metadata": {},
   "outputs": [],
   "source": [
    "BATCH_SIZE = 128\n",
    "EPOCHS     = 150\n",
    "LEARN_R    = 1e-2\n",
    "\n",
    "#optimizer = optim.SGD(model.parameters(), lr=LEARN_R, weight_decay=0.1)\n",
    "optimizer = optim.RMSprop(model.parameters(), lr=LEARN_R)"
   ]
  },
  {
   "cell_type": "code",
   "execution_count": 16,
   "metadata": {},
   "outputs": [],
   "source": [
    "train_loader = DataLoader(data, batch_size=BATCH_SIZE)"
   ]
  },
  {
   "cell_type": "code",
   "execution_count": 17,
   "metadata": {},
   "outputs": [],
   "source": [
    "cum_loss = []\n",
    "for e in range(EPOCHS):\n",
    "    for train_batch in train_loader:\n",
    "        # Forward pass of the neural network\n",
    "        output = model(train_batch)\n",
    "        loss = neg_loglik(output, train_batch)\n",
    "        \n",
    "        # Clear all the previous gradients and estimate the gradients of the loss with respect to the parameters\n",
    "        optimizer.zero_grad()\n",
    "        loss.backward()\n",
    "        \n",
    "        # Make a step\n",
    "        optimizer.step()\n",
    "        \n",
    "        # Save the loss for visualization\n",
    "        cum_loss.append(loss.data.numpy())"
   ]
  },
  {
   "cell_type": "code",
   "execution_count": 61,
   "metadata": {},
   "outputs": [
    {
     "name": "stdout",
     "output_type": "stream",
     "text": [
      "The probability of having large stones is: 0.49\n",
      "The probability of receiving treatment A given large stones is: 0.77\n",
      "The probability of recovering given large stones and treatment A is: 0.73\n"
     ]
    }
   ],
   "source": [
    "print(\"The probability of having large stones is: %.2f\\nThe probability of receiving treatment A given large stones is: %.2f\\nThe probability of recovering given large stones and treatment A is: %.2f\"\n",
    "      % (343/(343+357), 263/343, 192/263))"
   ]
  },
  {
   "cell_type": "code",
   "execution_count": 59,
   "metadata": {},
   "outputs": [
    {
     "name": "stdout",
     "output_type": "stream",
     "text": [
      "tensor([[1., 1., 0.],\n",
      "        [0., 0., 1.],\n",
      "        [1., 1., 1.],\n",
      "        [0., 0., 0.],\n",
      "        [0., 1., 1.],\n",
      "        [1., 0., 1.]])\n"
     ]
    },
    {
     "data": {
      "text/plain": [
       "(tensor([[0.4740]], grad_fn=<SigmoidBackward>),\n",
       " tensor([[0.7753]], grad_fn=<SigmoidBackward>),\n",
       " tensor([[0.7125]], grad_fn=<SigmoidBackward>))"
      ]
     },
     "execution_count": 59,
     "metadata": {},
     "output_type": "execute_result"
    }
   ],
   "source": [
    "print(data.__getitem__([0,1,4,8,9,10]))\n",
    "model(data.__getitem__([4]))"
   ]
  },
  {
   "cell_type": "code",
   "execution_count": 12,
   "metadata": {
    "scrolled": true
   },
   "outputs": [
    {
     "data": {
      "text/plain": [
       "tensor(524)"
      ]
     },
     "execution_count": 12,
     "metadata": {},
     "output_type": "execute_result"
    }
   ],
   "source": [
    "torch.sum(data[:][:,0]==0) # Proportion of small stones\n",
    "#torch.sum(((data[:][:,0]==0) & (data[:][:,1]==0))).float() / torch.sum(data[:][:,0]==0).float() # Proportion of treatment b given small stones \n",
    "#torch.sum(((data[:][:,0]==0) & (data[:][:,1]==0))).float() / torch.sum(data[:][:,0]==0).float() # Proportion of small stones given treatment b"
   ]
  },
  {
   "cell_type": "code",
   "execution_count": 13,
   "metadata": {},
   "outputs": [],
   "source": [
    "import matplotlib.pyplot as plt"
   ]
  },
  {
   "cell_type": "code",
   "execution_count": 14,
   "metadata": {},
   "outputs": [
    {
     "data": {
      "image/png": "[encoded data removed]",
      "text/plain": [
       "<Figure size 432x288 with 1 Axes>"
      ]
     },
     "metadata": {
      "needs_background": "light"
     },
     "output_type": "display_data"
    }
   ],
   "source": [
    "plt.plot(cum_loss);"
   ]
  },
  {
   "cell_type": "raw",
   "metadata": {},
   "source": [
    "\n",
    "\n",
    "\n",
    "\n",
    "def fit():\n",
    "    for epoch in range(epochs):\n",
    "        for i in range((n - 1) // bs + 1):\n",
    "            start_i = i * bs\n",
    "            end_i = start_i + bs\n",
    "            xb = x_train[start_i:end_i]\n",
    "            yb = y_train[start_i:end_i]\n",
    "            pred = model(xb)\n",
    "            loss = loss_func(pred, yb)\n",
    "\n",
    "            loss.backward()\n",
    "            with torch.no_grad():\n",
    "                for p in model.parameters():\n",
    "                    p -= p.grad * lr\n",
    "                model.zero_grad()"
   ]
  }
 ],
 "metadata": {
  "kernelspec": {
   "display_name": "Python 3",
   "language": "python",
   "name": "python3"
  },
  "language_info": {
   "codemirror_mode": {
    "name": "ipython",
    "version": 3
   },
   "file_extension": ".py",
   "mimetype": "text/x-python",
   "name": "python",
   "nbconvert_exporter": "python",
   "pygments_lexer": "ipython3",
   "version": "3.6.8"
  }
 },
 "nbformat": 4,
 "nbformat_minor": 4
}
