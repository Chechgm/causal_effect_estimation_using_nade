{
 "cells": [
  {
   "cell_type": "code",
   "execution_count": 1,
   "metadata": {},
   "outputs": [],
   "source": [
    "import torch\n",
    "from torch import nn\n",
    "import torch.nn.functional as F\n",
    "from torch.utils.data import DataLoader\n",
    "import torch.optim as optim\n",
    "\n",
    "from torch.distributions.log_normal import LogNormal\n",
    "\n",
    "# Internal packages\n",
    "from data_loader import KidneyStoneDataset, ToTensor\n",
    "from model import binary_ks_net, binary_neg_loglik, cont_rec_ks_net, cont_rec_neg_loglik, cont_size_ks_net, cont_size_neg_loglik\n",
    "from train import train"
   ]
  },
  {
   "cell_type": "markdown",
   "metadata": {},
   "source": [
    "## Gamma generative process with log-normal parametrization"
   ]
  },
  {
   "cell_type": "code",
   "execution_count": 2,
   "metadata": {},
   "outputs": [],
   "source": [
    "# Hyperparameters\n",
    "BATCH_SIZE = 128\n",
    "EPOCHS     = 150\n",
    "LEARN_R    = 1e-2 #RMS\n",
    "#LEARN_R    = 1e-3 #SGD\n",
    "N_HU       = 4\n",
    "#NLA = F.relu\n",
    "NLA = nn.LeakyReLU(1) # For a linear neural network\n",
    "\n",
    "# Initialize the dataset\n",
    "data = KidneyStoneDataset(\"./data/ks_cont_size_data_g.npy\", transform=ToTensor())\n",
    "train_loader = DataLoader(data, batch_size=BATCH_SIZE)\n",
    "\n",
    "# Initialize the model\n",
    "model = cont_size_ks_net(N_HU, NLA)\n",
    "\n",
    "# Optimizers\n",
    "#optimizer = optim.SGD(model.parameters(), lr=LEARN_R, weight_decay=0.002)\n",
    "#optimizer = optim.RMSprop(model.parameters(), lr=LEARN_R, weight_decay=0.002)\n",
    "optimizer = optim.RMSprop(model.parameters(), lr=LEARN_R)"
   ]
  },
  {
   "cell_type": "code",
   "execution_count": 3,
   "metadata": {},
   "outputs": [],
   "source": [
    "cum_loss = train(model, optimizer, cont_size_neg_loglik, train_loader, EPOCHS)"
   ]
  },
  {
   "cell_type": "code",
   "execution_count": 4,
   "metadata": {},
   "outputs": [],
   "source": [
    "# First, we get the parameters of the size variable:\n",
    "n_samples = 50\n",
    "arbitrary_query = torch.tensor([1., 1., 1.]) # It is only important that the first element is 1\n",
    "mu_L, log_sigma_L, _, _, _ = model(arbitrary_query.unsqueeze(0))\n",
    "sigma_L = torch.exp(log_sigma_L)\n",
    "L_dist = LogNormal(mu_L, sigma_L)\n",
    "L_samples = L_dist.sample((n_samples,)).view(n_samples,1)"
   ]
  },
  {
   "cell_type": "code",
   "execution_count": 5,
   "metadata": {
    "scrolled": true
   },
   "outputs": [],
   "source": [
    "t_1 = torch.cat((L_samples, torch.ones(n_samples, 2)), 1)\n",
    "t_0 = torch.cat((L_samples, torch.zeros(n_samples, 1) ,torch.ones(n_samples, 1)), 1)"
   ]
  },
  {
   "cell_type": "code",
   "execution_count": 6,
   "metadata": {},
   "outputs": [],
   "source": [
    "# Probabilities with Treatment A\n",
    "_, _, _, mu_t1, _ = model(t_1) # Probabilities with KS = L\n",
    "_, _, _, mu_t0, _ = model(t_0) # Probabilities with KS = L"
   ]
  },
  {
   "cell_type": "code",
   "execution_count": 7,
   "metadata": {},
   "outputs": [
    {
     "name": "stdout",
     "output_type": "stream",
     "text": [
      "1: 3.775667\n",
      "5: 3.775668\n",
      "25: 3.775667\n",
      "50: 3.775668\n"
     ]
    }
   ],
   "source": [
    "# By monte carlo integration, we are getting mu from the value of the variables from the distribution\n",
    "for n in [1, 5, 25, 50]:\n",
    "    print(\"%d: %f\" % (n, torch.mean(mu_t1[:n])-torch.mean(mu_t0[:n])))"
   ]
  },
  {
   "cell_type": "markdown",
   "metadata": {},
   "source": [
    "## Log-normal generative process with log-normal parametrization"
   ]
  },
  {
   "cell_type": "code",
   "execution_count": 10,
   "metadata": {},
   "outputs": [],
   "source": [
    "# Hyperparameters\n",
    "BATCH_SIZE = 128\n",
    "EPOCHS     = 150\n",
    "LEARN_R    = 1e-2\n",
    "N_HU       = 4\n",
    "#NLA = F.relu\n",
    "NLA = nn.LeakyReLU(1) # For a linear neural network\n",
    "\n",
    "# Initialize the dataset\n",
    "data = KidneyStoneDataset(\"./data/ks_cont_size_data_ln.npy\", transform=ToTensor())\n",
    "train_loader = DataLoader(data, batch_size=BATCH_SIZE)\n",
    "\n",
    "# Initialize the model\n",
    "model = cont_size_ks_net(N_HU, NLA)\n",
    "\n",
    "# Optimizers\n",
    "#optimizer = optim.SGD(model.parameters(), lr=LEARN_R, weight_decay=0.1)\n",
    "optimizer = optim.RMSprop(model.parameters(), lr=LEARN_R)"
   ]
  },
  {
   "cell_type": "code",
   "execution_count": 11,
   "metadata": {},
   "outputs": [],
   "source": [
    "cum_loss = train(model, optimizer, cont_size_neg_loglik, train_loader, EPOCHS)"
   ]
  },
  {
   "cell_type": "code",
   "execution_count": 12,
   "metadata": {},
   "outputs": [],
   "source": [
    "# First, we get the parameters of the size variable:\n",
    "n_samples = 50\n",
    "arbitrary_query = torch.tensor([1., 1., 1.]) # It is only important that the first element is 1\n",
    "mu_L, log_sigma_L, _, _, _ = model(arbitrary_query.unsqueeze(0))\n",
    "sigma_L = torch.exp(log_sigma_L)\n",
    "L_dist = LogNormal(mu_L, sigma_L)\n",
    "L_samples = L_dist.sample((n_samples,)).view(n_samples,1)"
   ]
  },
  {
   "cell_type": "code",
   "execution_count": 13,
   "metadata": {
    "scrolled": true
   },
   "outputs": [],
   "source": [
    "t_1 = torch.cat((L_samples, torch.ones(n_samples, 2)), 1)\n",
    "t_0 = torch.cat((L_samples, torch.zeros(n_samples, 1) ,torch.ones(n_samples, 1)), 1)"
   ]
  },
  {
   "cell_type": "code",
   "execution_count": 14,
   "metadata": {},
   "outputs": [],
   "source": [
    "# Probabilities with Treatment A\n",
    "_, _, _, mu_t1, _ = model(t_1) # Probabilities with KS = L\n",
    "_, _, _, mu_t0, _ = model(t_0) # Probabilities with KS = L"
   ]
  },
  {
   "cell_type": "code",
   "execution_count": 15,
   "metadata": {},
   "outputs": [
    {
     "name": "stdout",
     "output_type": "stream",
     "text": [
      "1: 4.091660\n",
      "5: 4.091659\n",
      "25: 4.091660\n",
      "50: 4.091658\n"
     ]
    }
   ],
   "source": [
    "# By monte carlo integration, we are getting mu from the value of the variables from the distribution\n",
    "for n in [1, 5, 25, 50]:\n",
    "    print(\"%d: %f\" % (n, torch.mean(mu_t1[:n])-torch.mean(mu_t0[:n])))"
   ]
  },
  {
   "cell_type": "code",
   "execution_count": null,
   "metadata": {},
   "outputs": [],
   "source": []
  }
 ],
 "metadata": {
  "kernelspec": {
   "display_name": "Python 3",
   "language": "python",
   "name": "python3"
  },
  "language_info": {
   "codemirror_mode": {
    "name": "ipython",
    "version": 3
   },
   "file_extension": ".py",
   "mimetype": "text/x-python",
   "name": "python",
   "nbconvert_exporter": "python",
   "pygments_lexer": "ipython3",
   "version": "3.6.8"
  }
 },
 "nbformat": 4,
 "nbformat_minor": 4
}
