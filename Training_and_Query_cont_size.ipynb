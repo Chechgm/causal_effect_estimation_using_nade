{
 "cells": [
  {
   "cell_type": "code",
   "execution_count": 1,
   "metadata": {},
   "outputs": [],
   "source": [
    "import torch\n",
    "from torch import nn\n",
    "import torch.nn.functional as F\n",
    "from torch.utils.data import DataLoader\n",
    "import torch.optim as optim\n",
    "\n",
    "from torch.distributions.log_normal import LogNormal\n",
    "\n",
    "# Internal packages\n",
    "from data_loader import KidneyStoneDataset, ToTensor\n",
    "from model import binary_ks_net, binary_neg_loglik, cont_rec_ks_net, cont_rec_neg_loglik, cont_size_ks_net, cont_size_neg_loglik\n",
    "from train import train"
   ]
  },
  {
   "cell_type": "markdown",
   "metadata": {},
   "source": [
    "## Gamma generative process with log-normal parametrization"
   ]
  },
  {
   "cell_type": "code",
   "execution_count": null,
   "metadata": {},
   "outputs": [],
   "source": [
    "# Hyperparameters\n",
    "BATCH_SIZE = 128\n",
    "EPOCHS     = 150\n",
    "LEARN_R    = 1e-2\n",
    "N_HU       = 3\n",
    "\n",
    "# Initialize the dataset\n",
    "data = KidneyStoneDataset(\"./data/ks_cont_size_data_g.npy\", transform=ToTensor())\n",
    "train_loader = DataLoader(data, batch_size=BATCH_SIZE)\n",
    "\n",
    "# Initialize the model\n",
    "model = cont_size_ks_net(N_HU)\n",
    "\n",
    "# Optimizers\n",
    "#optimizer = optim.SGD(model.parameters(), lr=LEARN_R, weight_decay=0.1)\n",
    "optimizer = optim.RMSprop(model.parameters(), lr=LEARN_R)"
   ]
  },
  {
   "cell_type": "code",
   "execution_count": null,
   "metadata": {},
   "outputs": [],
   "source": [
    "cum_loss = train(model, optimizer, cont_size_neg_loglik, train_loader, EPOCHS)"
   ]
  },
  {
   "cell_type": "code",
   "execution_count": null,
   "metadata": {},
   "outputs": [],
   "source": [
    "# First, we get the parameters of the size variable:\n",
    "n_samples = 20000\n",
    "arbitrary_query = torch.tensor([1., 1., 1.]) # It is only important that the first element is 1\n",
    "mu_L, log_sigma_L, _, _, _ = model(arbitrary_query.unsqueeze(0))\n",
    "sigma_L = torch.exp(log_sigma_L)\n",
    "L_dist = LogNormal(mu_L, sigma_L)\n",
    "L_samples = L_dist.sample((n_samples,)).view(n_samples,1)\n",
    "L_prob = torch.exp(L_dist.log_prob(L_samples))"
   ]
  },
  {
   "cell_type": "code",
   "execution_count": null,
   "metadata": {
    "scrolled": true
   },
   "outputs": [],
   "source": [
    "t_1 = torch.cat((L_samples, torch.ones(n_samples, 2)), 1)\n",
    "t_0 = torch.cat((L_samples, torch.zeros(n_samples, 1) ,torch.ones(n_samples, 1)), 1)"
   ]
  },
  {
   "cell_type": "code",
   "execution_count": null,
   "metadata": {},
   "outputs": [],
   "source": [
    "# Probabilities with Treatment A\n",
    "_, _, _, mu_t1, log_sigma_t1 = model(t_1) # Probabilities with KS = L\n",
    "_, _, _, mu_t0, log_sigma_t0 = model(t_0) # Probabilities with KS = L"
   ]
  },
  {
   "cell_type": "code",
   "execution_count": null,
   "metadata": {},
   "outputs": [],
   "source": [
    "# By monte carlo integration, we are getting mu from the value of the variables rom the distribution\n",
    "torch.mean(mu_t1) - torch.mean(mu_t0) # lognormal 1 sample 4.1766, 5 samples 4.1110, 20 samples 4.0318, 50 samples 4.1502, 200 samples 4.1494, 2k samples 4.1117"
   ]
  },
  {
   "cell_type": "markdown",
   "metadata": {},
   "source": [
    "## Log-normal generative process with log-normal parametrization"
   ]
  },
  {
   "cell_type": "code",
   "execution_count": 2,
   "metadata": {},
   "outputs": [],
   "source": [
    "# Hyperparameters\n",
    "BATCH_SIZE = 128\n",
    "EPOCHS     = 150\n",
    "LEARN_R    = 1e-2\n",
    "N_HU       = 3\n",
    "\n",
    "# Initialize the dataset\n",
    "data = KidneyStoneDataset(\"./data/ks_cont_size_data_ln.npy\", transform=ToTensor())\n",
    "train_loader = DataLoader(data, batch_size=BATCH_SIZE)\n",
    "\n",
    "# Initialize the model\n",
    "model = cont_size_ks_net(N_HU)\n",
    "\n",
    "# Optimizers\n",
    "#optimizer = optim.SGD(model.parameters(), lr=LEARN_R, weight_decay=0.1)\n",
    "optimizer = optim.RMSprop(model.parameters(), lr=LEARN_R)"
   ]
  },
  {
   "cell_type": "code",
   "execution_count": 3,
   "metadata": {},
   "outputs": [],
   "source": [
    "cum_loss = train(model, optimizer, cont_size_neg_loglik, train_loader, EPOCHS)"
   ]
  },
  {
   "cell_type": "code",
   "execution_count": 32,
   "metadata": {},
   "outputs": [],
   "source": [
    "# First, we get the parameters of the size variable:\n",
    "n_samples = 20000\n",
    "arbitrary_query = torch.tensor([1., 1., 1.]) # It is only important that the first element is 1\n",
    "mu_L, log_sigma_L, _, _, _ = model(arbitrary_query.unsqueeze(0))\n",
    "sigma_L = torch.exp(log_sigma_L)\n",
    "L_dist = LogNormal(mu_L, sigma_L)\n",
    "L_samples = L_dist.sample((n_samples,)).view(n_samples,1)\n",
    "L_prob = torch.exp(L_dist.log_prob(L_samples))"
   ]
  },
  {
   "cell_type": "code",
   "execution_count": 33,
   "metadata": {
    "scrolled": true
   },
   "outputs": [],
   "source": [
    "t_1 = torch.cat((L_samples, torch.ones(n_samples, 2)), 1)\n",
    "t_0 = torch.cat((L_samples, torch.zeros(n_samples, 1) ,torch.ones(n_samples, 1)), 1)"
   ]
  },
  {
   "cell_type": "code",
   "execution_count": 34,
   "metadata": {},
   "outputs": [],
   "source": [
    "# Probabilities with Treatment A\n",
    "_, _, _, mu_t1, log_sigma_t1 = model(t_1) # Probabilities with KS = L\n",
    "_, _, _, mu_t0, log_sigma_t0 = model(t_0) # Probabilities with KS = L"
   ]
  },
  {
   "cell_type": "code",
   "execution_count": 35,
   "metadata": {},
   "outputs": [
    {
     "data": {
      "text/plain": [
       "tensor(3.6989, grad_fn=<SubBackward0>)"
      ]
     },
     "execution_count": 35,
     "metadata": {},
     "output_type": "execute_result"
    }
   ],
   "source": [
    "# By monte carlo integration, we are getting mu from the value of the variables rom the distribution\n",
    "torch.mean(mu_t1) - torch.mean(mu_t0) # lognormal 1 sample 4.1766, 5 samples 4.1110, 20 samples 4.0318, 50 samples 4.1502, 200 samples 4.1494, 2k samples 4.1117"
   ]
  }
 ],
 "metadata": {
  "kernelspec": {
   "display_name": "Python 3",
   "language": "python",
   "name": "python3"
  },
  "language_info": {
   "codemirror_mode": {
    "name": "ipython",
    "version": 3
   },
   "file_extension": ".py",
   "mimetype": "text/x-python",
   "name": "python",
   "nbconvert_exporter": "python",
   "pygments_lexer": "ipython3",
   "version": "3.6.8"
  }
 },
 "nbformat": 4,
 "nbformat_minor": 4
}
