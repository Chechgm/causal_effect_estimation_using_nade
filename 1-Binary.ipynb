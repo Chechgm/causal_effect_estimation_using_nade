{
 "cells": [
  {
   "cell_type": "code",
   "execution_count": 1,
   "metadata": {},
   "outputs": [],
   "source": [
    "import torch\n",
    "from torch import nn\n",
    "import torch.nn.functional as F\n",
    "from torch.utils.data import DataLoader\n",
    "import torch.optim as optim\n",
    "\n",
    "# Internal packages\n",
    "from data_loader import KidneyStoneDataset, ToTensor\n",
    "from model import binary_ks_net, binary_neg_loglik\n",
    "from train import train"
   ]
  },
  {
   "cell_type": "code",
   "execution_count": 8,
   "metadata": {},
   "outputs": [],
   "source": [
    "# Hyperparameters\n",
    "BATCH_SIZE = 128\n",
    "EPOCHS     = 150\n",
    "LEARN_R    = 1e-2\n",
    "N_HU       = 4\n",
    "#NLA = F.relu\n",
    "NLA = nn.LeakyReLU(1) # For a linear neural network\n",
    "\n",
    "# Initialize the dataset\n",
    "data = KidneyStoneDataset(\"./data/ks_binary_data.npy\", transform=ToTensor())\n",
    "train_loader = DataLoader(data, batch_size=BATCH_SIZE)\n",
    "\n",
    "# Initialize the model\n",
    "model = binary_ks_net(N_HU, NLA)\n",
    "\n",
    "# Optimizers\n",
    "#optimizer = optim.SGD(model.parameters(), lr=LEARN_R, weight_decay=0.1)\n",
    "optimizer = optim.RMSprop(model.parameters(), lr=LEARN_R)"
   ]
  },
  {
   "cell_type": "code",
   "execution_count": 9,
   "metadata": {},
   "outputs": [],
   "source": [
    "cum_loss = train(model, optimizer, binary_neg_loglik, train_loader, EPOCHS)"
   ]
  },
  {
   "cell_type": "code",
   "execution_count": 10,
   "metadata": {},
   "outputs": [],
   "source": [
    "# We want to query an intervention on the treatment. In order to do that, we estimate p(R=1|L=1, T=do(A))*P(L=1)\n",
    "l_1_t_1_r_1 = torch.tensor([1., 1., 1.])\n",
    "l_0_t_1_r_1 = torch.tensor([0., 1., 1.])\n",
    "\n",
    "# We want to query an intervention on the treatment. In order to do that, we estimate p(R=1|L=1, T=do(B))*P(L=1)\n",
    "l_1_t_0_r_1 = torch.tensor([1., 0., 1.])\n",
    "l_0_t_0_r_1 = torch.tensor([0., 0., 1.])"
   ]
  },
  {
   "cell_type": "code",
   "execution_count": 11,
   "metadata": {},
   "outputs": [],
   "source": [
    "# Probabilities with Treatment A\n",
    "p_ks, p_t1_l1, p_r1_t1_l1 = model(l_1_t_1_r_1.unsqueeze(0)) # Probabilities with KS = L\n",
    "_, p_t1_l0, p_r1_t1_l0 = model(l_0_t_1_r_1.unsqueeze(0))    # Probabilities with KS = S\n",
    "\n",
    "# Probabilities with Treatment B\n",
    "_, p_t0_l1, p_r1_t0_l1 = model(l_1_t_0_r_1.unsqueeze(0))  # Probabilities with KS = L\n",
    "_, p_t0_l0, p_r1_t0_l0 = model(l_0_t_0_r_1.unsqueeze(0))  # Probabilities with KS = S"
   ]
  },
  {
   "cell_type": "code",
   "execution_count": 12,
   "metadata": {},
   "outputs": [
    {
     "name": "stdout",
     "output_type": "stream",
     "text": [
      "The estimated probability of a Large kidney stone is: 0.4999\n",
      "The estimated probability of Recovery given large stones and treatment A is: 0.7564\n",
      "The estimated probability of Recovery given large stones and treatment B is: 0.6634\n",
      "The estimated probability of Recovery given small stones and treatment A is: 0.9219\n",
      "The estimated probability of Recovery given large stones and treatment B is: 0.8822\n",
      "\n"
     ]
    }
   ],
   "source": [
    "print(\"The estimated probability of a Large kidney stone is: %.4f\\n\\\n",
    "The estimated probability of Recovery given large stones and treatment A is: %.4f\\n\\\n",
    "The estimated probability of Recovery given large stones and treatment B is: %.4f\\n\\\n",
    "The estimated probability of Recovery given small stones and treatment A is: %.4f\\n\\\n",
    "The estimated probability of Recovery given large stones and treatment B is: %.4f\\n\" \\\n",
    "      % (p_ks, p_r1_t1_l1, p_r1_t0_l1, p_r1_t1_l0, p_r1_t0_l0))"
   ]
  },
  {
   "cell_type": "code",
   "execution_count": 13,
   "metadata": {},
   "outputs": [
    {
     "name": "stdout",
     "output_type": "stream",
     "text": [
      "0.06631028652191162\n"
     ]
    }
   ],
   "source": [
    "int_t1 = p_r1_t1_l1*p_ks + p_r1_t1_l0*(1-p_ks)\n",
    "int_t0 = p_r1_t0_l1*p_ks + p_r1_t0_l0*(1-p_ks)\n",
    "\n",
    "c_effect = int_t1 - int_t0\n",
    "print(c_effect.item()) # Causal effect"
   ]
  },
  {
   "cell_type": "code",
   "execution_count": null,
   "metadata": {},
   "outputs": [],
   "source": []
  }
 ],
 "metadata": {
  "kernelspec": {
   "display_name": "Python 3",
   "language": "python",
   "name": "python3"
  },
  "language_info": {
   "codemirror_mode": {
    "name": "ipython",
    "version": 3
   },
   "file_extension": ".py",
   "mimetype": "text/x-python",
   "name": "python",
   "nbconvert_exporter": "python",
   "pygments_lexer": "ipython3",
   "version": "3.6.8"
  }
 },
 "nbformat": 4,
 "nbformat_minor": 4
}
