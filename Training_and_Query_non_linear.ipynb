{
 "cells": [
  {
   "cell_type": "code",
   "execution_count": 1,
   "metadata": {},
   "outputs": [],
   "source": [
    "import torch\n",
    "from torch import nn\n",
    "import torch.nn.functional as F\n",
    "from torch.utils.data import DataLoader\n",
    "import torch.optim as optim\n",
    "\n",
    "from torch.distributions.log_normal import LogNormal\n",
    "\n",
    "# Internal packages\n",
    "from data_loader import KidneyStoneDataset, ToTensor\n",
    "from model import binary_ks_net, binary_neg_loglik, cont_rec_ks_net, cont_rec_neg_loglik, cont_size_ks_net, cont_size_neg_loglik\n",
    "from train import train"
   ]
  },
  {
   "cell_type": "markdown",
   "metadata": {},
   "source": [
    "## Log-Normal parametrization"
   ]
  },
  {
   "cell_type": "code",
   "execution_count": 2,
   "metadata": {},
   "outputs": [],
   "source": [
    "# Hyperparameters\n",
    "BATCH_SIZE = 128\n",
    "EPOCHS     = 150\n",
    "LEARN_R    = 1e-2\n",
    "N_HU       = 5\n",
    "\n",
    "# Initialize the dataset\n",
    "data = KidneyStoneDataset(\"./data/ks_non_linear_data.npy\", transform=ToTensor())\n",
    "train_loader = DataLoader(data, batch_size=BATCH_SIZE)\n",
    "\n",
    "# Initialize the model\n",
    "model = cont_size_ks_net(N_HU)\n",
    "\n",
    "# Optimizers\n",
    "#optimizer = optim.SGD(model.parameters(), lr=LEARN_R, weight_decay=0.1)\n",
    "optimizer = optim.RMSprop(model.parameters(), lr=LEARN_R)"
   ]
  },
  {
   "cell_type": "code",
   "execution_count": 3,
   "metadata": {},
   "outputs": [],
   "source": [
    "cum_loss = train(model, optimizer, cont_size_neg_loglik, train_loader, EPOCHS)"
   ]
  },
  {
   "cell_type": "code",
   "execution_count": 33,
   "metadata": {},
   "outputs": [],
   "source": [
    "# First, we get the parameters of the size variable:\n",
    "n_samples = 20000\n",
    "arbitrary_query = torch.tensor([1., 1., 1.]) # It is only important that the first element is 1\n",
    "\n",
    "# Extract the parameters\n",
    "mu_L, log_sigma_L, _, _, _ = model(arbitrary_query.unsqueeze(0))\n",
    "sigma_L = torch.exp(log_sigma_L)\n",
    "\n",
    "# Sample from the distribution\n",
    "L_dist = LogNormal(mu_L, sigma_L)\n",
    "L_samples = L_dist.sample((n_samples,)).view(n_samples,1)\n",
    "L_prob = torch.exp(L_dist.log_prob(L_samples))"
   ]
  },
  {
   "cell_type": "code",
   "execution_count": 34,
   "metadata": {
    "scrolled": true
   },
   "outputs": [],
   "source": [
    "# \"Create\" the queries using the samples from the distribution\n",
    "t_1 = torch.cat((L_samples, torch.ones(n_samples, 2)), 1)\n",
    "t_0 = torch.cat((L_samples, torch.zeros(n_samples, 1) ,torch.ones(n_samples, 1)), 1)"
   ]
  },
  {
   "cell_type": "code",
   "execution_count": 35,
   "metadata": {},
   "outputs": [],
   "source": [
    "# Probabilities with Treatment A\n",
    "_, _, _, mu_t1, log_sigma_t1 = model(t_1) # Probabilities with KS = L\n",
    "_, _, _, mu_t0, log_sigma_t0 = model(t_0) # Probabilities with KS = L"
   ]
  },
  {
   "cell_type": "code",
   "execution_count": 36,
   "metadata": {},
   "outputs": [
    {
     "data": {
      "text/plain": [
       "tensor(8.6833, grad_fn=<SubBackward0>)"
      ]
     },
     "execution_count": 36,
     "metadata": {},
     "output_type": "execute_result"
    }
   ],
   "source": [
    "# By monte carlo integration, we are getting mu from the value of the variables rom the distribution\n",
    "torch.mean(mu_t1) - torch.mean(mu_t0) # lognormal 1 sample 4.1766, 5 samples 4.1110, 25 samples 4.0318, 50 samples 4.1502, 200 samples 4.1494, 2k samples 4.1117, 20k samples 4.1117"
   ]
  },
  {
   "cell_type": "code",
   "execution_count": null,
   "metadata": {},
   "outputs": [],
   "source": [
    "mu_t1"
   ]
  },
  {
   "cell_type": "code",
   "execution_count": null,
   "metadata": {},
   "outputs": [],
   "source": [
    "mu_t0"
   ]
  },
  {
   "cell_type": "code",
   "execution_count": 37,
   "metadata": {},
   "outputs": [
    {
     "data": {
      "text/plain": [
       "10.87312731383618"
      ]
     },
     "execution_count": 37,
     "metadata": {},
     "output_type": "execute_result"
    }
   ],
   "source": [
    "4*2.7182818284590452353602874713527"
   ]
  },
  {
   "cell_type": "code",
   "execution_count": 9,
   "metadata": {},
   "outputs": [
    {
     "ename": "NameError",
     "evalue": "name 'np' is not defined",
     "output_type": "error",
     "traceback": [
      "\u001b[0;31m---------------------------------------------------------------------------\u001b[0m",
      "\u001b[0;31mNameError\u001b[0m                                 Traceback (most recent call last)",
      "\u001b[0;32m<ipython-input-9-6f71337dc67a>\u001b[0m in \u001b[0;36m<module>\u001b[0;34m\u001b[0m\n\u001b[0;32m----> 1\u001b[0;31m \u001b[0;36m4\u001b[0m\u001b[0;34m*\u001b[0m\u001b[0mnp\u001b[0m\u001b[0;34m.\u001b[0m\u001b[0mexp\u001b[0m\u001b[0;34m(\u001b[0m\u001b[0mL_samples\u001b[0m\u001b[0;34m.\u001b[0m\u001b[0mitem\u001b[0m\u001b[0;34m(\u001b[0m\u001b[0;34m)\u001b[0m\u001b[0;34m>\u001b[0m\u001b[0;36m10\u001b[0m\u001b[0;34m)\u001b[0m\u001b[0;34m+\u001b[0m\u001b[0mL_samples\u001b[0m\u001b[0;34m.\u001b[0m\u001b[0mitem\u001b[0m\u001b[0;34m(\u001b[0m\u001b[0;34m)\u001b[0m\u001b[0;34m\u001b[0m\u001b[0;34m\u001b[0m\u001b[0m\n\u001b[0m",
      "\u001b[0;31mNameError\u001b[0m: name 'np' is not defined"
     ]
    }
   ],
   "source": [
    "4*np.exp(L_samples.item()>10)+L_samples.item()"
   ]
  }
 ],
 "metadata": {
  "kernelspec": {
   "display_name": "Python 3",
   "language": "python",
   "name": "python3"
  },
  "language_info": {
   "codemirror_mode": {
    "name": "ipython",
    "version": 3
   },
   "file_extension": ".py",
   "mimetype": "text/x-python",
   "name": "python",
   "nbconvert_exporter": "python",
   "pygments_lexer": "ipython3",
   "version": "3.6.8"
  }
 },
 "nbformat": 4,
 "nbformat_minor": 4
}
