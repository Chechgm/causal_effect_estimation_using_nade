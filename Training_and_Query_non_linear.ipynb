{
 "cells": [
  {
   "cell_type": "code",
   "execution_count": 1,
   "metadata": {},
   "outputs": [],
   "source": [
    "import torch\n",
    "from torch import nn\n",
    "import torch.nn.functional as F\n",
    "from torch.utils.data import DataLoader\n",
    "import torch.optim as optim\n",
    "\n",
    "from torch.distributions.log_normal import LogNormal\n",
    "\n",
    "# Internal packages\n",
    "from data_loader import KidneyStoneDataset, ToTensor\n",
    "from model import binary_ks_net, binary_neg_loglik, cont_rec_ks_net, cont_rec_neg_loglik, cont_size_ks_net, cont_size_neg_loglik\n",
    "from train import train"
   ]
  },
  {
   "cell_type": "markdown",
   "metadata": {},
   "source": [
    "## Log-Normal parametrization"
   ]
  },
  {
   "cell_type": "code",
   "execution_count": 2,
   "metadata": {},
   "outputs": [],
   "source": [
    "# Hyperparameters\n",
    "BATCH_SIZE = 128\n",
    "EPOCHS     = 150\n",
    "LEARN_R    = 1e-2\n",
    "N_HU       = 5\n",
    "\n",
    "# Initialize the dataset\n",
    "data = KidneyStoneDataset(\"./data/ks_non_linear_data.npy\", transform=ToTensor())\n",
    "train_loader = DataLoader(data, batch_size=BATCH_SIZE)\n",
    "\n",
    "# Initialize the model\n",
    "model = cont_size_ks_net(N_HU)\n",
    "\n",
    "# Optimizers\n",
    "#optimizer = optim.SGD(model.parameters(), lr=LEARN_R, weight_decay=0.1)\n",
    "optimizer = optim.RMSprop(model.parameters(), lr=LEARN_R)"
   ]
  },
  {
   "cell_type": "code",
   "execution_count": 3,
   "metadata": {},
   "outputs": [],
   "source": [
    "cum_loss = train(model, optimizer, cont_size_neg_loglik, train_loader, EPOCHS)"
   ]
  },
  {
   "cell_type": "code",
   "execution_count": 4,
   "metadata": {},
   "outputs": [],
   "source": [
    "# First, we get the parameters of the size variable:\n",
    "n_samples = 100000\n",
    "arbitrary_query = torch.tensor([1., 1., 1.]) # It is only important that the first element is 1\n",
    "\n",
    "# Extract the parameters\n",
    "mu_L, log_sigma_L, _, _, _ = model(arbitrary_query.unsqueeze(0))\n",
    "sigma_L = torch.exp(log_sigma_L)\n",
    "\n",
    "# Sample from the distribution\n",
    "L_dist = LogNormal(mu_L, sigma_L)\n",
    "L_samples = L_dist.sample((n_samples,)).view(n_samples,1)\n",
    "L_prob = torch.exp(L_dist.log_prob(L_samples))"
   ]
  },
  {
   "cell_type": "code",
   "execution_count": 5,
   "metadata": {
    "scrolled": true
   },
   "outputs": [],
   "source": [
    "# \"Create\" the queries using the samples from the distribution\n",
    "t_1 = torch.cat((L_samples, torch.ones(n_samples, 2)), 1)\n",
    "t_0 = torch.cat((L_samples, torch.zeros(n_samples, 1) ,torch.ones(n_samples, 1)), 1)"
   ]
  },
  {
   "cell_type": "code",
   "execution_count": 6,
   "metadata": {},
   "outputs": [
    {
     "name": "stdout",
     "output_type": "stream",
     "text": [
      "tensor([[8.6337e+09]], grad_fn=<AddmmBackward>)\n"
     ]
    }
   ],
   "source": [
    "extreme_1 = torch.cat((torch.tensor(10000000000).view(-1,1).float(), torch.ones(1, 2)), 1)\n",
    "extreme_0 = torch.cat((torch.tensor(10000000000).view(-1,1).float(), torch.zeros(1, 1) ,torch.ones(1, 1)), 1)\n",
    "# Probabilities with Treatment A\n",
    "_, _, _, mu_t1, log_sigma_t1 = model(extreme_1)\n",
    "_, _, _, mu_t0, log_sigma_t0 = model(extreme_0)\n",
    "print(mu_t1)"
   ]
  },
  {
   "cell_type": "code",
   "execution_count": 7,
   "metadata": {},
   "outputs": [
    {
     "data": {
      "text/plain": [
       "(tensor([[2.3429]], grad_fn=<MmBackward>),\n",
       " tensor([[-1.2496]], grad_fn=<MmBackward>),\n",
       " tensor([[1.]], grad_fn=<SigmoidBackward>),\n",
       " tensor([[8.6337e+09]], grad_fn=<AddmmBackward>),\n",
       " tensor([[3.7118e+08]], grad_fn=<AddmmBackward>))"
      ]
     },
     "execution_count": 7,
     "metadata": {},
     "output_type": "execute_result"
    }
   ],
   "source": [
    "model(extreme_1)"
   ]
  },
  {
   "cell_type": "code",
   "execution_count": 8,
   "metadata": {},
   "outputs": [
    {
     "data": {
      "text/plain": [
       "(tensor([[2.3429]], grad_fn=<MmBackward>),\n",
       " tensor([[-1.2496]], grad_fn=<MmBackward>),\n",
       " tensor([[1.]], grad_fn=<SigmoidBackward>),\n",
       " tensor([[8.6337e+09]], grad_fn=<AddmmBackward>),\n",
       " tensor([[3.7118e+08]], grad_fn=<AddmmBackward>))"
      ]
     },
     "execution_count": 8,
     "metadata": {},
     "output_type": "execute_result"
    }
   ],
   "source": [
    "model(extreme_0)"
   ]
  },
  {
   "cell_type": "code",
   "execution_count": 12,
   "metadata": {},
   "outputs": [
    {
     "data": {
      "text/plain": [
       "8633681920.0"
      ]
     },
     "execution_count": 12,
     "metadata": {},
     "output_type": "execute_result"
    }
   ],
   "source": [
    "mu_t0.item()"
   ]
  },
  {
   "cell_type": "code",
   "execution_count": 13,
   "metadata": {},
   "outputs": [
    {
     "data": {
      "text/plain": [
       "8633681920.0"
      ]
     },
     "execution_count": 13,
     "metadata": {},
     "output_type": "execute_result"
    }
   ],
   "source": [
    "mu_t1.item()"
   ]
  },
  {
   "cell_type": "code",
   "execution_count": 14,
   "metadata": {},
   "outputs": [],
   "source": [
    "# Probabilities with Treatment A\n",
    "_, _, _, mu_t1, log_sigma_t1 = model(t_1)\n",
    "_, _, _, mu_t0, log_sigma_t0 = model(t_0)"
   ]
  },
  {
   "cell_type": "code",
   "execution_count": 15,
   "metadata": {},
   "outputs": [],
   "source": [
    "mu_t1_less_10 = mu_t1[L_samples < 10]\n",
    "mu_t1_gret_10 = mu_t1[L_samples >= 10]\n",
    "mu_t0_less_10 = mu_t0[L_samples < 10]\n",
    "mu_t0_gret_10 = mu_t0[L_samples >= 10]"
   ]
  },
  {
   "cell_type": "code",
   "execution_count": 17,
   "metadata": {
    "scrolled": true
   },
   "outputs": [
    {
     "name": "stdout",
     "output_type": "stream",
     "text": [
      "1: 10.737598\n",
      "5: 10.552355\n",
      "25: 10.623676\n",
      "50: 10.571201\n",
      "200: 10.618073\n",
      "2000: 10.613517\n",
      "20000: 10.621495\n"
     ]
    }
   ],
   "source": [
    "for n in [1, 5, 25, 50, 200, 2000, 20000]:\n",
    "    print(\"%d: %f\" % (n, torch.mean(mu_t1_gret_10[:n])-torch.mean(mu_t0_gret_10[:n])))"
   ]
  },
  {
   "cell_type": "code",
   "execution_count": 17,
   "metadata": {},
   "outputs": [
    {
     "data": {
      "text/plain": [
       "tensor([[5.7287]], grad_fn=<SubBackward0>)"
      ]
     },
     "execution_count": 17,
     "metadata": {},
     "output_type": "execute_result"
    }
   ],
   "source": [
    "mu_t1-mu_t0"
   ]
  },
  {
   "cell_type": "code",
   "execution_count": 24,
   "metadata": {},
   "outputs": [
    {
     "data": {
      "text/plain": [
       "tensor(10.1807, grad_fn=<SubBackward0>)"
      ]
     },
     "execution_count": 24,
     "metadata": {},
     "output_type": "execute_result"
    }
   ],
   "source": [
    "# By monte carlo integration, we are getting mu from the value of the variables rom the distribution\n",
    "torch.mean(mu_t1) - torch.mean(mu_t0)"
   ]
  },
  {
   "cell_type": "code",
   "execution_count": 10,
   "metadata": {},
   "outputs": [
    {
     "name": "stdout",
     "output_type": "stream",
     "text": [
      "2.4290895462036133 0.2676357924938202\n"
     ]
    }
   ],
   "source": [
    "print(mu_L.item(), sigma_L.item())"
   ]
  },
  {
   "cell_type": "code",
   "execution_count": 12,
   "metadata": {},
   "outputs": [
    {
     "data": {
      "text/plain": [
       "10.87312731383618"
      ]
     },
     "execution_count": 12,
     "metadata": {},
     "output_type": "execute_result"
    }
   ],
   "source": [
    "import numpy as np\n",
    "4*np.exp(1)"
   ]
  },
  {
   "cell_type": "code",
   "execution_count": null,
   "metadata": {},
   "outputs": [],
   "source": []
  }
 ],
 "metadata": {
  "kernelspec": {
   "display_name": "Python 3",
   "language": "python",
   "name": "python3"
  },
  "language_info": {
   "codemirror_mode": {
    "name": "ipython",
    "version": 3
   },
   "file_extension": ".py",
   "mimetype": "text/x-python",
   "name": "python",
   "nbconvert_exporter": "python",
   "pygments_lexer": "ipython3",
   "version": "3.6.8"
  }
 },
 "nbformat": 4,
 "nbformat_minor": 4
}
