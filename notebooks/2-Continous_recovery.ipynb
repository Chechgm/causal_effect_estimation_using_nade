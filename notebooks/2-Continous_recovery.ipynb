{
 "cells": [
  {
   "cell_type": "code",
   "execution_count": 1,
   "metadata": {},
   "outputs": [],
   "source": [
    "import torch\n",
    "from torch import nn\n",
    "import torch.nn.functional as F\n",
    "from torch.utils.data import DataLoader\n",
    "import torch.optim as optim\n",
    "\n",
    "# Internal packages\n",
    "from data_loader import KidneyStoneDataset, ToTensor\n",
    "from model import cont_rec_ks_net, binary_neg_loglik, cont_rec_neg_loglik, ContinuousOutcome\n",
    "from train import train"
   ]
  },
  {
   "cell_type": "code",
   "execution_count": 2,
   "metadata": {},
   "outputs": [],
   "source": [
    "# Hyperparameters\n",
    "BATCH_SIZE = 128\n",
    "EPOCHS     = 150\n",
    "LEARN_R    = 1e-2\n",
    "N_HU       = 4\n",
    "#NLA = F.relu\n",
    "NLA = nn.LeakyReLU(1) # For a linear neural network\n",
    "\n",
    "# Initialize the dataset\n",
    "data = KidneyStoneDataset(\"./data/ks_cont_rec_data.npy\", transform=ToTensor())\n",
    "train_loader = DataLoader(data, batch_size=BATCH_SIZE)\n",
    "\n",
    "# Initialize the model\n",
    "model = ContinuousOutcome([N_HU], NLA)\n",
    "\n",
    "# Optimizers\n",
    "#optimizer = optim.SGD(model.parameters(), lr=LEARN_R, weight_decay=0.1)\n",
    "optimizer = optim.RMSprop(model.parameters(), lr=LEARN_R)"
   ]
  },
  {
   "cell_type": "code",
   "execution_count": 4,
   "metadata": {},
   "outputs": [],
   "source": [
    "cum_loss = train(model, optimizer, cont_rec_neg_loglik, train_loader, EPOCHS)"
   ]
  },
  {
   "cell_type": "code",
   "execution_count": 5,
   "metadata": {},
   "outputs": [],
   "source": [
    "# We want to query an intervention on the treatment. In order to do that, we estimate p(R=1|L=1, T=do(A))*P(L=1)\n",
    "l_1_t_1_r_1 = torch.tensor([1., 1., 1.])\n",
    "l_0_t_1_r_1 = torch.tensor([0., 1., 1.])\n",
    "\n",
    "# We want to query an intervention on the treatment. In order to do that, we estimate p(R=1|L=1, T=do(B))*P(L=1)\n",
    "l_1_t_0_r_1 = torch.tensor([1., 0., 1.])\n",
    "l_0_t_0_r_1 = torch.tensor([0., 0., 1.])"
   ]
  },
  {
   "cell_type": "code",
   "execution_count": 6,
   "metadata": {},
   "outputs": [],
   "source": [
    "# Probabilities with Treatment A\n",
    "p_ks, p_t1_l1, mu_r1_t1_l1, log_sigma_r1_t1_l1 = model(l_1_t_1_r_1.unsqueeze(0)) # Probabilities with KS = L\n",
    "_, p_t1_l0, mu_r1_t1_l0, log_sigma_r1_t1_l0 = model(l_0_t_1_r_1.unsqueeze(0))    # Probabilities with KS = S\n",
    "\n",
    "# Probabilities with Treatment B\n",
    "_, p_t0_l1, mu_r1_t0_l1, log_sigma_r1_t0_l1 = model(l_1_t_0_r_1.unsqueeze(0))  # Probabilities with KS = L\n",
    "_, p_t0_l0, mu_r1_t0_l0, log_sigma_r1_t0_l0 = model(l_0_t_0_r_1.unsqueeze(0))  # Probabilities with KS = S"
   ]
  },
  {
   "cell_type": "code",
   "execution_count": 7,
   "metadata": {},
   "outputs": [
    {
     "name": "stdout",
     "output_type": "stream",
     "text": [
      "0.873916745185852 4.568049430847168\n"
     ]
    }
   ],
   "source": [
    "print(mu_r1_t0_l0.item(), mu_r1_t1_l0.item()) # The first should be around 1, the second around 4"
   ]
  },
  {
   "cell_type": "code",
   "execution_count": 8,
   "metadata": {},
   "outputs": [
    {
     "name": "stdout",
     "output_type": "stream",
     "text": [
      "3.694132089614868\n"
     ]
    }
   ],
   "source": [
    "int_t1 = mu_r1_t1_l1*p_ks + mu_r1_t1_l0*(1-p_ks)\n",
    "int_t0 = mu_r1_t0_l1*p_ks + mu_r1_t0_l0*(1-p_ks)\n",
    "\n",
    "c_effect = int_t1 - int_t0\n",
    "print(c_effect.item())"
   ]
  },
  {
   "cell_type": "code",
   "execution_count": null,
   "metadata": {},
   "outputs": [],
   "source": []
  },
  {
   "cell_type": "code",
   "execution_count": 45,
   "metadata": {},
   "outputs": [],
   "source": [
    "import matplotlib.pyplot as plt\n",
    "import numpy as np"
   ]
  },
  {
   "cell_type": "code",
   "execution_count": 46,
   "metadata": {},
   "outputs": [],
   "source": [
    "data = np.load(\"./data/ks_cont_rec_data.npy\")"
   ]
  },
  {
   "cell_type": "code",
   "execution_count": 47,
   "metadata": {},
   "outputs": [
    {
     "data": {
      "image/png": "[encoded data removed]",
      "text/plain": [
       "<Figure size 432x288 with 1 Axes>"
      ]
     },
     "metadata": {
      "needs_background": "light"
     },
     "output_type": "display_data"
    }
   ],
   "source": [
    "plt.scatter(data[:,1], data[:,2]);"
   ]
  },
  {
   "cell_type": "code",
   "execution_count": 48,
   "metadata": {},
   "outputs": [
    {
     "data": {
      "image/png": "[encoded data removed]",
      "text/plain": [
       "<Figure size 432x288 with 1 Axes>"
      ]
     },
     "metadata": {
      "needs_background": "light"
     },
     "output_type": "display_data"
    }
   ],
   "source": [
    "plt.scatter(data[:,0], data[:,2]);"
   ]
  },
  {
   "cell_type": "code",
   "execution_count": 49,
   "metadata": {},
   "outputs": [
    {
     "name": "stdout",
     "output_type": "stream",
     "text": [
      "is P(R=1 | B) > P(R=1 | A)? False\n",
      "P(R=1 | A, L)  6.730615941108319\n",
      "P(R=1 | B, L)  2.7399951033949397\n",
      "P(R=1 | A, S)  5.051728588900619\n",
      "P(R=1 | B, S)  1.0273448785795336\n"
     ]
    }
   ],
   "source": [
    "p_r_b = np.mean(data[data[:,1]==False, 2]) # P(R=1 | B)\n",
    "p_r_a = np.mean(data[data[:,1]==True, 2])  # P(R=1 | A)\n",
    "print(\"is P(R=1 | B) > P(R=1 | A)?\", p_r_b > p_r_a)\n",
    "\n",
    "p_l = np.mean(data[:, 0]) # P(R=1 | B)\n",
    "\n",
    "# Check that, individually, P(R=1 | A, S) > P(R=1 | B, S)\n",
    "#   and P(R=1 | A, L) > P(R=1 | B, L)\n",
    "\n",
    "mask_l_a = ((data[:,1]==True) & (data[:,0]==True))\n",
    "p_r_l_a  = np.mean(data[mask_l_a, 2])               # P(R=1 | A, L)\n",
    "print(\"P(R=1 | A, L) \", p_r_l_a)\n",
    "mask_l_b = ((data[:,1]==False) & (data[:,0]==True))\n",
    "p_r_l_b  = np.mean(data[mask_l_b, 2])               # P(R=1 | B, L)\n",
    "print(\"P(R=1 | B, L) \", p_r_l_b)\n",
    "\n",
    "mask_s_a = ((data[:,1]==True) & (data[:,0]==False))\n",
    "p_r_s_a  = np.mean(data[mask_s_a, 2])               # P(R=1 | A, S)\n",
    "print(\"P(R=1 | A, S) \", p_r_s_a)\n",
    "mask_s_b = ((data[:,1]==False) & (data[:,0]==False))\n",
    "p_r_s_b  = np.mean(data[mask_s_b, 2])               # P(R=1 | B, S)\n",
    "print(\"P(R=1 | B, S) \", p_r_s_b)"
   ]
  },
  {
   "cell_type": "code",
   "execution_count": 50,
   "metadata": {},
   "outputs": [
    {
     "name": "stdout",
     "output_type": "stream",
     "text": [
      "4.007866913041395\n"
     ]
    }
   ],
   "source": [
    "int_t1 = p_r_l_a*p_l + p_r_s_a*(1-p_l) \n",
    "int_t0 = p_r_l_b*p_l + p_r_s_b*(1-p_l) \n",
    "\n",
    "c_effect = int_t1 - int_t0\n",
    "print(c_effect)"
   ]
  },
  {
   "cell_type": "code",
   "execution_count": null,
   "metadata": {},
   "outputs": [],
   "source": []
  }
 ],
 "metadata": {
  "kernelspec": {
   "display_name": "Python 3",
   "language": "python",
   "name": "python3"
  },
  "language_info": {
   "codemirror_mode": {
    "name": "ipython",
    "version": 3
   },
   "file_extension": ".py",
   "mimetype": "text/x-python",
   "name": "python",
   "nbconvert_exporter": "python",
   "pygments_lexer": "ipython3",
   "version": "3.7.5"
  }
 },
 "nbformat": 4,
 "nbformat_minor": 4
}
